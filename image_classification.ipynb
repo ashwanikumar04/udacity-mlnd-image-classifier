{
 "cells": [
  {
   "cell_type": "markdown",
   "metadata": {
    "collapsed": true
   },
   "source": [
    "# Image Classification\n",
    "In this project, you'll classify images from the [CIFAR-10 dataset](https://www.cs.toronto.edu/~kriz/cifar.html).  The dataset consists of airplanes, dogs, cats, and other objects. You'll preprocess the images, then train a convolutional neural network on all the samples. The images need to be normalized and the labels need to be one-hot encoded.  You'll get to apply what you learned and build a convolutional, max pooling, dropout, and fully connected layers.  At the end, you'll get to see your neural network's predictions on the sample images.\n",
    "## Get the Data\n",
    "Run the following cell to download the [CIFAR-10 dataset for python](https://www.cs.toronto.edu/~kriz/cifar-10-python.tar.gz)."
   ]
  },
  {
   "cell_type": "code",
   "execution_count": 2,
   "metadata": {},
   "outputs": [
    {
     "name": "stderr",
     "output_type": "stream",
     "text": [
      "CIFAR-10 Dataset: 171MB [03:41, 770kB/s]                                \n"
     ]
    },
    {
     "name": "stdout",
     "output_type": "stream",
     "text": [
      "All files found!\n"
     ]
    }
   ],
   "source": [
    "\"\"\"\n",
    "DON'T MODIFY ANYTHING IN THIS CELL THAT IS BELOW THIS LINE\n",
    "\"\"\"\n",
    "from urllib.request import urlretrieve\n",
    "from os.path import isfile, isdir\n",
    "from tqdm import tqdm\n",
    "import problem_unittests as tests\n",
    "import tarfile\n",
    "\n",
    "cifar10_dataset_folder_path = 'cifar-10-batches-py'\n",
    "\n",
    "class DLProgress(tqdm):\n",
    "    last_block = 0\n",
    "\n",
    "    def hook(self, block_num=1, block_size=1, total_size=None):\n",
    "        self.total = total_size\n",
    "        self.update((block_num - self.last_block) * block_size)\n",
    "        self.last_block = block_num\n",
    "\n",
    "if not isfile('cifar-10-python.tar.gz'):\n",
    "    with DLProgress(unit='B', unit_scale=True, miniters=1, desc='CIFAR-10 Dataset') as pbar:\n",
    "        urlretrieve(\n",
    "            'https://www.cs.toronto.edu/~kriz/cifar-10-python.tar.gz',\n",
    "            'cifar-10-python.tar.gz',\n",
    "            pbar.hook)\n",
    "\n",
    "if not isdir(cifar10_dataset_folder_path):\n",
    "    with tarfile.open('cifar-10-python.tar.gz') as tar:\n",
    "        tar.extractall()\n",
    "        tar.close()\n",
    "\n",
    "\n",
    "tests.test_folder_path(cifar10_dataset_folder_path)"
   ]
  },
  {
   "cell_type": "markdown",
   "metadata": {},
   "source": [
    "## Explore the Data\n",
    "The dataset is broken into batches to prevent your machine from running out of memory.  The CIFAR-10 dataset consists of 5 batches, named `data_batch_1`, `data_batch_2`, etc.. Each batch contains the labels and images that are one of the following:\n",
    "* airplane\n",
    "* automobile\n",
    "* bird\n",
    "* cat\n",
    "* deer\n",
    "* dog\n",
    "* frog\n",
    "* horse\n",
    "* ship\n",
    "* truck\n",
    "\n",
    "Understanding a dataset is part of making predictions on the data.  Play around with the code cell below by changing the `batch_id` and `sample_id`. The `batch_id` is the id for a batch (1-5). The `sample_id` is the id for a image and label pair in the batch.\n",
    "\n",
    "Ask yourself \"What are all possible labels?\", \"What is the range of values for the image data?\", \"Are the labels in order or random?\".  Answers to questions like these will help you preprocess the data and end up with better predictions."
   ]
  },
  {
   "cell_type": "code",
   "execution_count": 5,
   "metadata": {},
   "outputs": [
    {
     "name": "stdout",
     "output_type": "stream",
     "text": [
      "\n",
      "Stats of batch 1:\n",
      "Samples: 10000\n",
      "Label Counts: {0: 1005, 1: 974, 2: 1032, 3: 1016, 4: 999, 5: 937, 6: 1030, 7: 1001, 8: 1025, 9: 981}\n",
      "First 20 Labels: [6, 9, 9, 4, 1, 1, 2, 7, 8, 3, 4, 7, 7, 2, 9, 9, 9, 3, 2, 6]\n",
      "\n",
      "Example of Image 1000:\n",
      "Image - Min Value: 2 Max Value: 254\n",
      "Image - Shape: (32, 32, 3)\n",
      "Label - Label Id: 9 Name: truck\n"
     ]
    },
    {
     "data": {
      "image/png": "[encoded data removed]",
      "text/plain": [
       "<matplotlib.figure.Figure at 0x18216eb898>"
      ]
     },
     "metadata": {
      "image/png": {
       "height": 250,
       "width": 253
      }
     },
     "output_type": "display_data"
    }
   ],
   "source": [
    "%matplotlib inline\n",
    "%config InlineBackend.figure_format = 'retina'\n",
    "\n",
    "import helper\n",
    "import numpy as np\n",
    "\n",
    "# Explore the dataset\n",
    "batch_id = 1\n",
    "sample_id = 1000\n",
    "helper.display_stats(cifar10_dataset_folder_path, batch_id, sample_id)"
   ]
  },
  {
   "cell_type": "markdown",
   "metadata": {},
   "source": [
    "## Implement Preprocess Functions\n",
    "### Normalize\n",
    "In the cell below, implement the `normalize` function to take in image data, `x`, and return it as a normalized Numpy array. The values should be in the range of 0 to 1, inclusive.  The return object should be the same shape as `x`."
   ]
  },
  {
   "cell_type": "code",
   "execution_count": 10,
   "metadata": {},
   "outputs": [
    {
     "name": "stdout",
     "output_type": "stream",
     "text": [
      "Tests Passed\n"
     ]
    }
   ],
   "source": [
    "def normalize(x):\n",
    "    \"\"\"\n",
    "    Normalize a list of sample image data in the range of 0 to 1\n",
    "    : x: List of image data.  The image shape is (32, 32, 3)\n",
    "    : return: Numpy array of normalize data\n",
    "    \"\"\"\n",
    "    # TODO: Implement Function\n",
    "    min=np.min(x)\n",
    "    return (x-min)/(np.max(x)-min)\n",
    "\n",
    "\n",
    "\"\"\"\n",
    "DON'T MODIFY ANYTHING IN THIS CELL THAT IS BELOW THIS LINE\n",
    "\"\"\"\n",
    "tests.test_normalize(normalize)"
   ]
  },
  {
   "cell_type": "markdown",
   "metadata": {},
   "source": [
    "### One-hot encode\n",
    "Just like the previous code cell, you'll be implementing a function for preprocessing.  This time, you'll implement the `one_hot_encode` function. The input, `x`, are a list of labels.  Implement the function to return the list of labels as One-Hot encoded Numpy array.  The possible values for labels are 0 to 9. The one-hot encoding function should return the same encoding for each value between each call to `one_hot_encode`.  Make sure to save the map of encodings outside the function.\n",
    "\n",
    "**Hint:**\n",
    "\n",
    "Look into LabelBinarizer in the preprocessing module of sklearn."
   ]
  },
  {
   "cell_type": "code",
   "execution_count": 22,
   "metadata": {},
   "outputs": [
    {
     "name": "stdout",
     "output_type": "stream",
     "text": [
      "Tests Passed\n"
     ]
    }
   ],
   "source": [
    "from sklearn.preprocessing import LabelBinarizer\n",
    "def one_hot_encode(x):\n",
    "    \"\"\"\n",
    "    One hot encode a list of sample labels. Return a one-hot encoded vector for each label.\n",
    "    : x: List of sample Labels\n",
    "    : return: Numpy array of one-hot encoded labels\n",
    "    \"\"\"\n",
    "    #http://scikit-learn.org/stable/modules/generated/sklearn.preprocessing.LabelBinarizer.html#sklearn.preprocessing.LabelBinarizer\n",
    "    lb = LabelBinarizer()\n",
    "    lb.fit(range(max(x)+1))\n",
    "    b = lb.transform(x)\n",
    "    return b\n",
    "\n",
    "\n",
    "\"\"\"\n",
    "DON'T MODIFY ANYTHING IN THIS CELL THAT IS BELOW THIS LINE\n",
    "\"\"\"\n",
    "tests.test_one_hot_encode(one_hot_encode)"
   ]
  },
  {
   "cell_type": "markdown",
   "metadata": {},
   "source": [
    "### Randomize Data\n",
    "As you saw from exploring the data above, the order of the samples are randomized.  It doesn't hurt to randomize it again, but you don't need to for this dataset."
   ]
  },
  {
   "cell_type": "markdown",
   "metadata": {},
   "source": [
    "## Preprocess all the data and save it\n",
    "Running the code cell below will preprocess all the CIFAR-10 data and save it to file. The code below also uses 10% of the training data for validation."
   ]
  },
  {
   "cell_type": "code",
   "execution_count": 23,
   "metadata": {
    "collapsed": true
   },
   "outputs": [],
   "source": [
    "\"\"\"\n",
    "DON'T MODIFY ANYTHING IN THIS CELL\n",
    "\"\"\"\n",
    "# Preprocess Training, Validation, and Testing Data\n",
    "helper.preprocess_and_save_data(cifar10_dataset_folder_path, normalize, one_hot_encode)"
   ]
  },
  {
   "cell_type": "markdown",
   "metadata": {},
   "source": [
    "# Check Point\n",
    "This is your first checkpoint.  If you ever decide to come back to this notebook or have to restart the notebook, you can start from here.  The preprocessed data has been saved to disk."
   ]
  },
  {
   "cell_type": "code",
   "execution_count": 2,
   "metadata": {
    "collapsed": true
   },
   "outputs": [],
   "source": [
    "\"\"\"\n",
    "DON'T MODIFY ANYTHING IN THIS CELL\n",
    "\"\"\"\n",
    "import pickle\n",
    "import problem_unittests as tests\n",
    "import helper\n",
    "\n",
    "# Load the Preprocessed Validation data\n",
    "valid_features, valid_labels = pickle.load(open('preprocess_validation.p', mode='rb'))"
   ]
  },
  {
   "cell_type": "markdown",
   "metadata": {},
   "source": [
    "## Build the network\n",
    "For the neural network, you'll build each layer into a function.  Most of the code you've seen has been outside of functions. To test your code more thoroughly, we require that you put each layer in a function.  This allows us to give you better feedback and test for simple mistakes using our unittests before you submit your project.\n",
    "\n",
    ">**Note:** If you're finding it hard to dedicate enough time for this course each week, we've provided a small shortcut to this part of the project. In the next couple of problems, you'll have the option to use classes from the [TensorFlow Layers](https://www.tensorflow.org/api_docs/python/tf/layers) or [TensorFlow Layers (contrib)](https://www.tensorflow.org/api_guides/python/contrib.layers) packages to build each layer, except the layers you build in the \"Convolutional and Max Pooling Layer\" section.  TF Layers is similar to Keras's and TFLearn's abstraction to layers, so it's easy to pickup.\n",
    "\n",
    ">However, if you would like to get the most out of this course, try to solve all the problems _without_ using anything from the TF Layers packages. You **can** still use classes from other packages that happen to have the same name as ones you find in TF Layers! For example, instead of using the TF Layers version of the `conv2d` class, [tf.layers.conv2d](https://www.tensorflow.org/api_docs/python/tf/layers/conv2d), you would want to use the TF Neural Network version of `conv2d`, [tf.nn.conv2d](https://www.tensorflow.org/api_docs/python/tf/nn/conv2d). \n",
    "\n",
    "Let's begin!\n",
    "\n",
    "### Input\n",
    "The neural network needs to read the image data, one-hot encoded labels, and dropout keep probability. Implement the following functions\n",
    "* Implement `neural_net_image_input`\n",
    " * Return a [TF Placeholder](https://www.tensorflow.org/api_docs/python/tf/placeholder)\n",
    " * Set the shape using `image_shape` with batch size set to `None`.\n",
    " * Name the TensorFlow placeholder \"x\" using the TensorFlow `name` parameter in the [TF Placeholder](https://www.tensorflow.org/api_docs/python/tf/placeholder).\n",
    "* Implement `neural_net_label_input`\n",
    " * Return a [TF Placeholder](https://www.tensorflow.org/api_docs/python/tf/placeholder)\n",
    " * Set the shape using `n_classes` with batch size set to `None`.\n",
    " * Name the TensorFlow placeholder \"y\" using the TensorFlow `name` parameter in the [TF Placeholder](https://www.tensorflow.org/api_docs/python/tf/placeholder).\n",
    "* Implement `neural_net_keep_prob_input`\n",
    " * Return a [TF Placeholder](https://www.tensorflow.org/api_docs/python/tf/placeholder) for dropout keep probability.\n",
    " * Name the TensorFlow placeholder \"keep_prob\" using the TensorFlow `name` parameter in the [TF Placeholder](https://www.tensorflow.org/api_docs/python/tf/placeholder).\n",
    "\n",
    "These names will be used at the end of the project to load your saved model.\n",
    "\n",
    "Note: `None` for shapes in TensorFlow allow for a dynamic size."
   ]
  },
  {
   "cell_type": "code",
   "execution_count": 16,
   "metadata": {},
   "outputs": [
    {
     "name": "stdout",
     "output_type": "stream",
     "text": [
      "(32, 32, 3)\n",
      "Image Input Tests Passed.\n",
      "10\n",
      "Label Input Tests Passed.\n",
      "Keep Prob Tests Passed.\n"
     ]
    }
   ],
   "source": [
    "import tensorflow as tf\n",
    "\n",
    "\n",
    "def neural_net_image_input(image_shape):\n",
    "    \"\"\"\n",
    "    Return a Tensor for a batch of image input\n",
    "    : image_shape: Shape of the images\n",
    "    : return: Tensor for image input.\n",
    "    \"\"\"\n",
    "    print(image_shape)\n",
    "    return tf.placeholder(\n",
    "        tf.float32,\n",
    "        shape=[None, image_shape[0], image_shape[1], image_shape[2]],\n",
    "        name=\"x\")\n",
    "\n",
    "\n",
    "def neural_net_label_input(n_classes):\n",
    "    \"\"\"\n",
    "    Return a Tensor for a batch of label input\n",
    "    : n_classes: Number of classes\n",
    "    : return: Tensor for label input.\n",
    "    \"\"\"\n",
    "    print(n_classes)\n",
    "    return tf.placeholder(tf.float32, shape=[None, 10], name=\"y\")\n",
    "\n",
    "\n",
    "def neural_net_keep_prob_input():\n",
    "    \"\"\"\n",
    "    Return a Tensor for keep probability\n",
    "    : return: Tensor for keep probability.\n",
    "    \"\"\"\n",
    "    # TODO: Implement Function\n",
    "    return tf.placeholder(tf.float32, name=\"keep_prob\")\n",
    "\n",
    "\n",
    "\"\"\"\n",
    "DON'T MODIFY ANYTHING IN THIS CELL THAT IS BELOW THIS LINE\n",
    "\"\"\"\n",
    "tf.reset_default_graph()\n",
    "tests.test_nn_image_inputs(neural_net_image_input)\n",
    "tests.test_nn_label_inputs(neural_net_label_input)\n",
    "tests.test_nn_keep_prob_inputs(neural_net_keep_prob_input)"
   ]
  },
  {
   "cell_type": "markdown",
   "metadata": {},
   "source": [
    "### Convolution and Max Pooling Layer\n",
    "Convolution layers have a lot of success with images. For this code cell, you should implement the function `conv2d_maxpool` to apply convolution then max pooling:\n",
    "* Create the weight and bias using `conv_ksize`, `conv_num_outputs` and the shape of `x_tensor`.\n",
    "* Apply a convolution to `x_tensor` using weight and `conv_strides`.\n",
    " * We recommend you use same padding, but you're welcome to use any padding.\n",
    "* Add bias\n",
    "* Add a nonlinear activation to the convolution.\n",
    "* Apply Max Pooling using `pool_ksize` and `pool_strides`.\n",
    " * We recommend you use same padding, but you're welcome to use any padding.\n",
    "\n",
    "**Note:** You **can't** use [TensorFlow Layers](https://www.tensorflow.org/api_docs/python/tf/layers) or [TensorFlow Layers (contrib)](https://www.tensorflow.org/api_guides/python/contrib.layers) for **this** layer, but you can still use TensorFlow's [Neural Network](https://www.tensorflow.org/api_docs/python/tf/nn) package. You may still use the shortcut option for all the **other** layers.\n",
    "\n",
    "** Hint: **\n",
    "\n",
    "When unpacking values as an argument in Python, look into the [unpacking](https://docs.python.org/3/tutorial/controlflow.html#unpacking-argument-lists) operator. "
   ]
  },
  {
   "cell_type": "code",
   "execution_count": 57,
   "metadata": {},
   "outputs": [
    {
     "name": "stdout",
     "output_type": "stream",
     "text": [
      "5\n",
      "(2, 2)\n",
      "(4, 4)\n",
      "(2, 2)\n",
      "(2, 2)\n",
      "shape [2, 2, 5, 10]\n",
      "conv2d: strides [1, 4, 4, 1]\n",
      "max_pool: kSize [1, 2, 2, 1]\n",
      "max_pool: strides [1, 2, 2, 1]\n",
      "Tests Passed\n"
     ]
    }
   ],
   "source": [
    "def init_weights(shape):\n",
    "    init_random_dist = tf.truncated_normal(shape, stddev=0.1)\n",
    "    return tf.Variable(init_random_dist)\n",
    "\n",
    "\n",
    "def init_bias(shape):\n",
    "    init_bias_vals = tf.constant(0.1, shape=shape)\n",
    "    return tf.Variable(init_bias_vals)\n",
    "\n",
    "\n",
    "def conv2d(x, W, strides):\n",
    "    print('conv2d: strides {}'.format(strides))\n",
    "    return tf.nn.conv2d(x, W, strides=strides, padding=\"SAME\")\n",
    "\n",
    "\n",
    "def max_pool(x, kSize, strides):\n",
    "    print('max_pool: kSize {}'.format(kSize))\n",
    "    print('max_pool: strides {}'.format(strides))\n",
    "    return tf.nn.max_pool(x, ksize=kSize, strides=strides, padding=\"SAME\")\n",
    "\n",
    "\n",
    "def conv2d_maxpool(x_tensor, conv_num_outputs, conv_ksize, conv_strides,\n",
    "                   pool_ksize, pool_strides):\n",
    "    \"\"\"\n",
    "    Apply convolution then max pooling to x_tensor\n",
    "    :param x_tensor: TensorFlow Tensor\n",
    "    :param conv_num_outputs: Number of outputs for the convolutional layer\n",
    "    :param conv_ksize: kernal size 2-D Tuple for the convolutional layer\n",
    "    :param conv_strides: Stride 2-D Tuple for convolution\n",
    "    :param pool_ksize: kernal size 2-D Tuple for pool\n",
    "    :param pool_strides: Stride 2-D Tuple for pool\n",
    "    : return: A tensor that represents convolution and max pooling of x_tensor\n",
    "    \"\"\"\n",
    "    print(x_tensor.shape[3])\n",
    "    print(conv_ksize)\n",
    "    print(conv_strides)\n",
    "    print(pool_ksize)\n",
    "    print(pool_strides)\n",
    "    shape = [\n",
    "        conv_ksize[0], conv_ksize[1],\n",
    "        int(x_tensor.shape[3]), conv_num_outputs\n",
    "    ]\n",
    "\n",
    "    print('shape {}'.format(shape))\n",
    "\n",
    "    W = init_weights(shape)\n",
    "    b = init_bias([shape[3]])\n",
    "\n",
    "    conv_layer = tf.nn.relu(\n",
    "        conv2d(x_tensor, W, [1, conv_strides[0], conv_strides[1], 1]) + b)\n",
    "\n",
    "    conv_layer_pooling = max_pool(conv_layer,\n",
    "                                  [1, pool_ksize[0], pool_ksize[1], 1],\n",
    "                                  [1, pool_strides[0], pool_strides[1], 1])\n",
    "    return conv_layer_pooling\n",
    "\n",
    "\n",
    "\"\"\"\n",
    "DON'T MODIFY ANYTHING IN THIS CELL THAT IS BELOW THIS LINE\n",
    "\"\"\"\n",
    "tests.test_con_pool(conv2d_maxpool)"
   ]
  },
  {
   "cell_type": "markdown",
   "metadata": {},
   "source": [
    "### Flatten Layer\n",
    "Implement the `flatten` function to change the dimension of `x_tensor` from a 4-D tensor to a 2-D tensor.  The output should be the shape (*Batch Size*, *Flattened Image Size*). Shortcut option: you can use classes from the [TensorFlow Layers](https://www.tensorflow.org/api_docs/python/tf/layers) or [TensorFlow Layers (contrib)](https://www.tensorflow.org/api_guides/python/contrib.layers) packages for this layer. For more of a challenge, only use other TensorFlow packages."
   ]
  },
  {
   "cell_type": "code",
   "execution_count": 59,
   "metadata": {},
   "outputs": [
    {
     "name": "stdout",
     "output_type": "stream",
     "text": [
      "Tensor(\"Placeholder_40:0\", shape=(?, 10, 30, 6), dtype=float32)\n",
      "Tests Passed\n"
     ]
    }
   ],
   "source": [
    "def flatten(x_tensor):\n",
    "    \"\"\"\n",
    "    Flatten x_tensor to (Batch Size, Flattened Image Size)\n",
    "    : x_tensor: A tensor of size (Batch Size, ...), where ... are the image dimensions.\n",
    "    : return: A tensor of size (Batch Size, Flattened Image Size).\n",
    "    \"\"\"\n",
    "    print(x_tensor)\n",
    "    shape = x_tensor.shape\n",
    "    length = shape[1] * shape[2] * shape[3]\n",
    "    convo_flat = tf.reshape(x_tensor, [-1, length])\n",
    "    return convo_flat\n",
    "\n",
    "\n",
    "\"\"\"\n",
    "DON'T MODIFY ANYTHING IN THIS CELL THAT IS BELOW THIS LINE\n",
    "\"\"\"\n",
    "tests.test_flatten(flatten)"
   ]
  },
  {
   "cell_type": "markdown",
   "metadata": {},
   "source": [
    "### Fully-Connected Layer\n",
    "Implement the `fully_conn` function to apply a fully connected layer to `x_tensor` with the shape (*Batch Size*, *num_outputs*). Shortcut option: you can use classes from the [TensorFlow Layers](https://www.tensorflow.org/api_docs/python/tf/layers) or [TensorFlow Layers (contrib)](https://www.tensorflow.org/api_guides/python/contrib.layers) packages for this layer. For more of a challenge, only use other TensorFlow packages."
   ]
  },
  {
   "cell_type": "code",
   "execution_count": 60,
   "metadata": {},
   "outputs": [
    {
     "name": "stdout",
     "output_type": "stream",
     "text": [
      "Tests Passed\n"
     ]
    }
   ],
   "source": [
    "def normal_full_layer(input_layer, size):\n",
    "    input_size = int(input_layer.get_shape()[1])\n",
    "    W = init_weights([input_size, size])\n",
    "    b = init_bias([size])\n",
    "    return tf.matmul(input_layer, W) + b\n",
    "\n",
    "\n",
    "def fully_conn(x_tensor, num_outputs):\n",
    "    \"\"\"\n",
    "    Apply a fully connected layer to x_tensor using weight and bias\n",
    "    : x_tensor: A 2-D tensor where the first dimension is batch size.\n",
    "    : num_outputs: The number of output that the new tensor should be.\n",
    "    : return: A 2-D tensor where the second dimension is num_outputs.\n",
    "    \"\"\"\n",
    "    return tf.nn.relu(normal_full_layer(x_tensor, num_outputs))\n",
    "\n",
    "\n",
    "\"\"\"\n",
    "DON'T MODIFY ANYTHING IN THIS CELL THAT IS BELOW THIS LINE\n",
    "\"\"\"\n",
    "tests.test_fully_conn(fully_conn)"
   ]
  },
  {
   "cell_type": "markdown",
   "metadata": {},
   "source": [
    "### Output Layer\n",
    "Implement the `output` function to apply a fully connected layer to `x_tensor` with the shape (*Batch Size*, *num_outputs*). Shortcut option: you can use classes from the [TensorFlow Layers](https://www.tensorflow.org/api_docs/python/tf/layers) or [TensorFlow Layers (contrib)](https://www.tensorflow.org/api_guides/python/contrib.layers) packages for this layer. For more of a challenge, only use other TensorFlow packages.\n",
    "\n",
    "**Note:** Activation, softmax, or cross entropy should **not** be applied to this."
   ]
  },
  {
   "cell_type": "code",
   "execution_count": 64,
   "metadata": {},
   "outputs": [
    {
     "name": "stdout",
     "output_type": "stream",
     "text": [
      "Tests Passed\n"
     ]
    }
   ],
   "source": [
    "def output(x_tensor, num_outputs):\n",
    "    \"\"\"\n",
    "    Apply a output layer to x_tensor using weight and bias\n",
    "    : x_tensor: A 2-D tensor where the first dimension is batch size.\n",
    "    : num_outputs: The number of output that the new tensor should be.\n",
    "    : return: A 2-D tensor where the second dimension is num_outputs.\n",
    "    \"\"\"\n",
    "    # TODO: Implement Function\n",
    "    return normal_full_layer(x_tensor, num_outputs)\n",
    "\n",
    "\n",
    "\"\"\"\n",
    "DON'T MODIFY ANYTHING IN THIS CELL THAT IS BELOW THIS LINE\n",
    "\"\"\"\n",
    "tests.test_output(output)"
   ]
  },
  {
   "cell_type": "markdown",
   "metadata": {},
   "source": [
    "### Create Convolutional Model\n",
    "Implement the function `conv_net` to create a convolutional neural network model. The function takes in a batch of images, `x`, and outputs logits.  Use the layers you created above to create this model:\n",
    "\n",
    "* Apply 1, 2, or 3 Convolution and Max Pool layers\n",
    "* Apply a Flatten Layer\n",
    "* Apply 1, 2, or 3 Fully Connected Layers\n",
    "* Apply an Output Layer\n",
    "* Return the output\n",
    "* Apply [TensorFlow's Dropout](https://www.tensorflow.org/api_docs/python/tf/nn/dropout) to one or more layers in the model using `keep_prob`. "
   ]
  },
  {
   "cell_type": "code",
   "execution_count": 79,
   "metadata": {},
   "outputs": [
    {
     "name": "stdout",
     "output_type": "stream",
     "text": [
      "(32, 32, 3)\n",
      "10\n",
      "3\n",
      "[4, 4]\n",
      "[1, 1]\n",
      "[2, 2]\n",
      "[2, 2]\n",
      "shape [4, 4, 3, 32]\n",
      "conv2d: strides [1, 1, 1, 1]\n",
      "max_pool: kSize [1, 2, 2, 1]\n",
      "max_pool: strides [1, 2, 2, 1]\n",
      "32\n",
      "[4, 4]\n",
      "[1, 1]\n",
      "[2, 2]\n",
      "[2, 2]\n",
      "shape [4, 4, 32, 64]\n",
      "conv2d: strides [1, 1, 1, 1]\n",
      "max_pool: kSize [1, 2, 2, 1]\n",
      "max_pool: strides [1, 2, 2, 1]\n",
      "64\n",
      "[4, 4]\n",
      "[1, 1]\n",
      "[2, 2]\n",
      "[2, 2]\n",
      "shape [4, 4, 64, 128]\n",
      "conv2d: strides [1, 1, 1, 1]\n",
      "max_pool: kSize [1, 2, 2, 1]\n",
      "max_pool: strides [1, 2, 2, 1]\n",
      "Tensor(\"MaxPool_2:0\", shape=(?, 4, 4, 128), dtype=float32)\n",
      "3\n",
      "[4, 4]\n",
      "[1, 1]\n",
      "[2, 2]\n",
      "[2, 2]\n",
      "shape [4, 4, 3, 32]\n",
      "conv2d: strides [1, 1, 1, 1]\n",
      "max_pool: kSize [1, 2, 2, 1]\n",
      "max_pool: strides [1, 2, 2, 1]\n",
      "32\n",
      "[4, 4]\n",
      "[1, 1]\n",
      "[2, 2]\n",
      "[2, 2]\n",
      "shape [4, 4, 32, 64]\n",
      "conv2d: strides [1, 1, 1, 1]\n",
      "max_pool: kSize [1, 2, 2, 1]\n",
      "max_pool: strides [1, 2, 2, 1]\n",
      "64\n",
      "[4, 4]\n",
      "[1, 1]\n",
      "[2, 2]\n",
      "[2, 2]\n",
      "shape [4, 4, 64, 128]\n",
      "conv2d: strides [1, 1, 1, 1]\n",
      "max_pool: kSize [1, 2, 2, 1]\n",
      "max_pool: strides [1, 2, 2, 1]\n",
      "Tensor(\"MaxPool_5:0\", shape=(?, 4, 4, 128), dtype=float32)\n",
      "Neural Network Built!\n"
     ]
    }
   ],
   "source": [
    "def conv_net(x, keep_prob):\n",
    "    \"\"\"\n",
    "    Create a convolutional neural network model\n",
    "    : x: Placeholder tensor that holds image data.\n",
    "    : keep_prob: Placeholder tensor that hold dropout keep probability.\n",
    "    : return: Tensor that represents logits\n",
    "    \"\"\"\n",
    "    # TODO: Apply 1, 2, or 3 Convolution and Max Pool layers\n",
    "    #    Play around with different number of outputs, kernel size and stride\n",
    "    # Function Definition from Above:\n",
    "    conv_ksize = [4, 4]\n",
    "    conv_strides = [1, 1]\n",
    "    pool_ksize = [2, 2]\n",
    "    pool_strides = [2, 2]\n",
    "    conv_layer_1 = conv2d_maxpool(x, 32, conv_ksize, conv_strides, pool_ksize,\n",
    "                                  pool_strides)\n",
    "    conv_layer_2 = conv2d_maxpool(conv_layer_1, 64, conv_ksize, conv_strides,\n",
    "                                  pool_ksize, pool_strides)\n",
    "    conv_layer_3 = conv2d_maxpool(conv_layer_2, 128, conv_ksize, conv_strides,\n",
    "                                  pool_ksize, pool_strides)\n",
    "\n",
    "    flatten_layer = flatten(conv_layer_3)\n",
    "\n",
    "    fully_connected_layer = fully_conn(flatten_layer, 1024)\n",
    "    full_one_dropout = tf.nn.dropout(\n",
    "        fully_connected_layer, keep_prob=keep_prob)\n",
    "    fully_connected_layer_two = fully_conn(full_one_dropout, 1024)\n",
    "\n",
    "    output_layer = output(fully_connected_layer_two, 10)\n",
    "    return output_layer\n",
    "\n",
    "\n",
    "\"\"\"\n",
    "DON'T MODIFY ANYTHING IN THIS CELL THAT IS BELOW THIS LINE\n",
    "\"\"\"\n",
    "\n",
    "##############################\n",
    "## Build the Neural Network ##\n",
    "##############################\n",
    "\n",
    "# Remove previous weights, bias, inputs, etc..\n",
    "tf.reset_default_graph()\n",
    "\n",
    "# Inputs\n",
    "x = neural_net_image_input((32, 32, 3))\n",
    "y = neural_net_label_input(10)\n",
    "keep_prob = neural_net_keep_prob_input()\n",
    "\n",
    "# Model\n",
    "logits = conv_net(x, keep_prob)\n",
    "\n",
    "# Name logits Tensor, so that is can be loaded from disk after training\n",
    "logits = tf.identity(logits, name='logits')\n",
    "\n",
    "# Loss and Optimizer\n",
    "cost = tf.reduce_mean(\n",
    "    tf.nn.softmax_cross_entropy_with_logits(logits=logits, labels=y))\n",
    "optimizer = tf.train.AdamOptimizer().minimize(cost)\n",
    "\n",
    "# Accuracy\n",
    "correct_pred = tf.equal(tf.argmax(logits, 1), tf.argmax(y, 1))\n",
    "accuracy = tf.reduce_mean(tf.cast(correct_pred, tf.float32), name='accuracy')\n",
    "\n",
    "tests.test_conv_net(conv_net)"
   ]
  },
  {
   "cell_type": "markdown",
   "metadata": {},
   "source": [
    "## Train the Neural Network\n",
    "### Single Optimization\n",
    "Implement the function `train_neural_network` to do a single optimization.  The optimization should use `optimizer` to optimize in `session` with a `feed_dict` of the following:\n",
    "* `x` for image input\n",
    "* `y` for labels\n",
    "* `keep_prob` for keep probability for dropout\n",
    "\n",
    "This function will be called for each batch, so `tf.global_variables_initializer()` has already been called.\n",
    "\n",
    "Note: Nothing needs to be returned. This function is only optimizing the neural network."
   ]
  },
  {
   "cell_type": "code",
   "execution_count": 69,
   "metadata": {},
   "outputs": [
    {
     "name": "stdout",
     "output_type": "stream",
     "text": [
      "Tests Passed\n"
     ]
    }
   ],
   "source": [
    "def train_neural_network(session, optimizer, keep_probability, feature_batch,\n",
    "                         label_batch):\n",
    "    \"\"\"\n",
    "    Optimize the session on a batch of images and labels\n",
    "    : session: Current TensorFlow session\n",
    "    : optimizer: TensorFlow optimizer function\n",
    "    : keep_probability: keep probability\n",
    "    : feature_batch: Batch of Numpy image data\n",
    "    : label_batch: Batch of Numpy label data\n",
    "    \"\"\"\n",
    "    # TODO: Implement Function\n",
    "    session.run(\n",
    "        optimizer,\n",
    "        feed_dict={\n",
    "            x: feature_batch,\n",
    "            y: label_batch,\n",
    "            keep_prob: keep_probability\n",
    "        })\n",
    "    pass\n",
    "\n",
    "\n",
    "\"\"\"\n",
    "DON'T MODIFY ANYTHING IN THIS CELL THAT IS BELOW THIS LINE\n",
    "\"\"\"\n",
    "tests.test_train_nn(train_neural_network)"
   ]
  },
  {
   "cell_type": "markdown",
   "metadata": {},
   "source": [
    "### Show Stats\n",
    "Implement the function `print_stats` to print loss and validation accuracy.  Use the global variables `valid_features` and `valid_labels` to calculate validation accuracy.  Use a keep probability of `1.0` to calculate the loss and validation accuracy."
   ]
  },
  {
   "cell_type": "code",
   "execution_count": 71,
   "metadata": {
    "collapsed": true
   },
   "outputs": [],
   "source": [
    "def print_stats(session, feature_batch, label_batch, cost, accuracy):\n",
    "    \"\"\"\n",
    "    Print information about loss and validation accuracy\n",
    "    : session: Current TensorFlow session\n",
    "    : feature_batch: Batch of Numpy image data\n",
    "    : label_batch: Batch of Numpy label data\n",
    "    : cost: TensorFlow cost function\n",
    "    : accuracy: TensorFlow accuracy function\n",
    "    \"\"\"\n",
    "    # TODO: Implement Function\n",
    "    current_cost = sess.run(\n",
    "        cost, feed_dict={\n",
    "            x: feature_batch,\n",
    "            y: label_batch,\n",
    "            keep_prob: 1.0\n",
    "        })\n",
    "    acc = sess.run(\n",
    "        accuracy,\n",
    "        feed_dict={\n",
    "            x: valid_features,\n",
    "            y: valid_labels,\n",
    "            keep_prob: 1.0\n",
    "        })\n",
    "\n",
    "    print(\"Current Cost: {}, accuracy: {}\".format(current_cost, acc))\n",
    "    pass"
   ]
  },
  {
   "cell_type": "markdown",
   "metadata": {},
   "source": [
    "### Hyperparameters\n",
    "Tune the following parameters:\n",
    "* Set `epochs` to the number of iterations until the network stops learning or start overfitting\n",
    "* Set `batch_size` to the highest number that your machine has memory for.  Most people set them to common sizes of memory:\n",
    " * 64\n",
    " * 128\n",
    " * 256\n",
    " * ...\n",
    "* Set `keep_probability` to the probability of keeping a node using dropout"
   ]
  },
  {
   "cell_type": "code",
   "execution_count": 84,
   "metadata": {
    "collapsed": true
   },
   "outputs": [],
   "source": [
    "# TODO: Tune Parameters\n",
    "epochs = 32\n",
    "batch_size = 10\n",
    "keep_probability = .5"
   ]
  },
  {
   "cell_type": "markdown",
   "metadata": {},
   "source": [
    "### Train on a Single CIFAR-10 Batch\n",
    "Instead of training the neural network on all the CIFAR-10 batches of data, let's use a single batch. This should save time while you iterate on the model to get a better accuracy.  Once the final validation accuracy is 50% or greater, run the model on all the data in the next section."
   ]
  },
  {
   "cell_type": "code",
   "execution_count": 82,
   "metadata": {},
   "outputs": [
    {
     "name": "stdout",
     "output_type": "stream",
     "text": [
      "Checking the Training on a Single Batch...\n",
      "Epoch  1, CIFAR-10 Batch 1:  Current Cost: 1.9935929775238037, accuracy: 0.3637999892234802\n",
      "Epoch  2, CIFAR-10 Batch 1:  Current Cost: 1.7781200408935547, accuracy: 0.3885999917984009\n",
      "Epoch  3, CIFAR-10 Batch 1:  Current Cost: 1.5841524600982666, accuracy: 0.4325999915599823\n",
      "Epoch  4, CIFAR-10 Batch 1:  Current Cost: 1.286264419555664, accuracy: 0.4666000008583069\n",
      "Epoch  5, CIFAR-10 Batch 1:  Current Cost: 1.2946223020553589, accuracy: 0.48420000076293945\n",
      "Epoch  6, CIFAR-10 Batch 1:  Current Cost: 1.0565882921218872, accuracy: 0.5052000284194946\n",
      "Epoch  7, CIFAR-10 Batch 1:  Current Cost: 1.1637872457504272, accuracy: 0.4966000020503998\n",
      "Epoch  8, CIFAR-10 Batch 1:  Current Cost: 0.9567605257034302, accuracy: 0.49399998784065247\n",
      "Epoch  9, CIFAR-10 Batch 1:  Current Cost: 1.044650673866272, accuracy: 0.5109999775886536\n",
      "Epoch 10, CIFAR-10 Batch 1:  Current Cost: 0.6560295224189758, accuracy: 0.5206000208854675\n",
      "Epoch 11, CIFAR-10 Batch 1:  Current Cost: 0.618323802947998, accuracy: 0.5388000011444092\n",
      "Epoch 12, CIFAR-10 Batch 1:  Current Cost: 0.5631140470504761, accuracy: 0.5138000249862671\n",
      "Epoch 13, CIFAR-10 Batch 1:  Current Cost: 0.46947821974754333, accuracy: 0.5217999815940857\n",
      "Epoch 14, CIFAR-10 Batch 1:  Current Cost: 0.45742034912109375, accuracy: 0.5249999761581421\n",
      "Epoch 15, CIFAR-10 Batch 1:  Current Cost: 0.23297670483589172, accuracy: 0.5321999788284302\n",
      "Epoch 16, CIFAR-10 Batch 1:  Current Cost: 0.31411224603652954, accuracy: 0.5378000140190125\n"
     ]
    }
   ],
   "source": [
    "\"\"\"\n",
    "DON'T MODIFY ANYTHING IN THIS CELL\n",
    "\"\"\"\n",
    "print('Checking the Training on a Single Batch...')\n",
    "with tf.Session() as sess:\n",
    "    # Initializing the variables\n",
    "    sess.run(tf.global_variables_initializer())\n",
    "    \n",
    "    # Training cycle\n",
    "    for epoch in range(epochs):\n",
    "        batch_i = 1\n",
    "        for batch_features, batch_labels in helper.load_preprocess_training_batch(batch_i, batch_size):\n",
    "            train_neural_network(sess, optimizer, keep_probability, batch_features, batch_labels)\n",
    "        print('Epoch {:>2}, CIFAR-10 Batch {}:  '.format(epoch + 1, batch_i), end='')\n",
    "        print_stats(sess, batch_features, batch_labels, cost, accuracy)"
   ]
  },
  {
   "cell_type": "markdown",
   "metadata": {},
   "source": [
    "### Fully Train the Model\n",
    "Now that you got a good accuracy with a single CIFAR-10 batch, try it with all five batches."
   ]
  },
  {
   "cell_type": "code",
   "execution_count": 85,
   "metadata": {},
   "outputs": [
    {
     "name": "stdout",
     "output_type": "stream",
     "text": [
      "Training...\n",
      "Epoch  1, CIFAR-10 Batch 1:  Current Cost: 2.206200361251831, accuracy: 0.3424000144004822\n",
      "Epoch  1, CIFAR-10 Batch 2:  Current Cost: 1.4213851690292358, accuracy: 0.423799991607666\n",
      "Epoch  1, CIFAR-10 Batch 3:  Current Cost: 1.6385953426361084, accuracy: 0.43479999899864197\n",
      "Epoch  1, CIFAR-10 Batch 4:  Current Cost: 1.5502982139587402, accuracy: 0.4666000008583069\n",
      "Epoch  1, CIFAR-10 Batch 5:  Current Cost: 1.4640315771102905, accuracy: 0.48159998655319214\n",
      "Epoch  2, CIFAR-10 Batch 1:  Current Cost: 1.306376338005066, accuracy: 0.48500001430511475\n",
      "Epoch  2, CIFAR-10 Batch 2:  Current Cost: 1.0289214849472046, accuracy: 0.49079999327659607\n",
      "Epoch  2, CIFAR-10 Batch 3:  Current Cost: 1.3291728496551514, accuracy: 0.5382000207901001\n",
      "Epoch  2, CIFAR-10 Batch 4:  Current Cost: 1.234445333480835, accuracy: 0.5443999767303467\n",
      "Epoch  2, CIFAR-10 Batch 5:  Current Cost: 1.4980871677398682, accuracy: 0.5562000274658203\n",
      "Epoch  3, CIFAR-10 Batch 1:  Current Cost: 1.1169682741165161, accuracy: 0.5758000016212463\n",
      "Epoch  3, CIFAR-10 Batch 2:  Current Cost: 0.8853647112846375, accuracy: 0.603600025177002\n",
      "Epoch  3, CIFAR-10 Batch 3:  Current Cost: 1.1034955978393555, accuracy: 0.5722000002861023\n",
      "Epoch  3, CIFAR-10 Batch 4:  Current Cost: 0.8999714851379395, accuracy: 0.6018000245094299\n",
      "Epoch  3, CIFAR-10 Batch 5:  Current Cost: 1.2320833206176758, accuracy: 0.5795999765396118\n",
      "Epoch  4, CIFAR-10 Batch 1:  Current Cost: 1.1063742637634277, accuracy: 0.5806000232696533\n",
      "Epoch  4, CIFAR-10 Batch 2:  Current Cost: 1.2436600923538208, accuracy: 0.6019999980926514\n",
      "Epoch  4, CIFAR-10 Batch 3:  Current Cost: 0.839199423789978, accuracy: 0.6097999811172485\n",
      "Epoch  4, CIFAR-10 Batch 4:  Current Cost: 0.7895785570144653, accuracy: 0.6087999939918518\n",
      "Epoch  4, CIFAR-10 Batch 5:  Current Cost: 1.0273990631103516, accuracy: 0.6262000203132629\n",
      "Epoch  5, CIFAR-10 Batch 1:  Current Cost: 0.9337884783744812, accuracy: 0.6208000183105469\n",
      "Epoch  5, CIFAR-10 Batch 2:  Current Cost: 1.1402519941329956, accuracy: 0.6123999953269958\n",
      "Epoch  5, CIFAR-10 Batch 3:  Current Cost: 0.6869208216667175, accuracy: 0.6403999924659729\n",
      "Epoch  5, CIFAR-10 Batch 4:  Current Cost: 0.8929253816604614, accuracy: 0.6362000107765198\n",
      "Epoch  5, CIFAR-10 Batch 5:  Current Cost: 1.0381301641464233, accuracy: 0.629800021648407\n",
      "Epoch  6, CIFAR-10 Batch 1:  Current Cost: 0.8810237646102905, accuracy: 0.6478000283241272\n",
      "Epoch  6, CIFAR-10 Batch 2:  Current Cost: 0.774449348449707, accuracy: 0.6521999835968018\n",
      "Epoch  6, CIFAR-10 Batch 3:  Current Cost: 0.5286224484443665, accuracy: 0.6499999761581421\n",
      "Epoch  6, CIFAR-10 Batch 4:  Current Cost: 0.5814460515975952, accuracy: 0.6355999708175659\n",
      "Epoch  6, CIFAR-10 Batch 5:  Current Cost: 0.778488278388977, accuracy: 0.6603999733924866\n",
      "Epoch  7, CIFAR-10 Batch 1:  Current Cost: 0.726218044757843, accuracy: 0.6543999910354614\n",
      "Epoch  7, CIFAR-10 Batch 2:  Current Cost: 0.7723777890205383, accuracy: 0.6552000045776367\n",
      "Epoch  7, CIFAR-10 Batch 3:  Current Cost: 0.8372761607170105, accuracy: 0.6381999850273132\n",
      "Epoch  7, CIFAR-10 Batch 4:  Current Cost: 0.9431264996528625, accuracy: 0.6628000140190125\n",
      "Epoch  7, CIFAR-10 Batch 5:  Current Cost: 1.3713738918304443, accuracy: 0.6377999782562256\n",
      "Epoch  8, CIFAR-10 Batch 1:  Current Cost: 0.8738274574279785, accuracy: 0.6517999768257141\n",
      "Epoch  8, CIFAR-10 Batch 2:  Current Cost: 0.5510532855987549, accuracy: 0.6668000221252441\n",
      "Epoch  8, CIFAR-10 Batch 3:  Current Cost: 0.37159714102745056, accuracy: 0.6787999868392944\n",
      "Epoch  8, CIFAR-10 Batch 4:  Current Cost: 0.46727895736694336, accuracy: 0.6848000288009644\n",
      "Epoch  8, CIFAR-10 Batch 5:  Current Cost: 0.7114299535751343, accuracy: 0.6704000234603882\n",
      "Epoch  9, CIFAR-10 Batch 1:  Current Cost: 0.8093555569648743, accuracy: 0.6431999802589417\n",
      "Epoch  9, CIFAR-10 Batch 2:  Current Cost: 0.5462306141853333, accuracy: 0.6686000227928162\n",
      "Epoch  9, CIFAR-10 Batch 3:  Current Cost: 0.36098113656044006, accuracy: 0.6959999799728394\n",
      "Epoch  9, CIFAR-10 Batch 4:  Current Cost: 0.6709665060043335, accuracy: 0.676800012588501\n",
      "Epoch  9, CIFAR-10 Batch 5:  Current Cost: 0.9036949276924133, accuracy: 0.6772000193595886\n",
      "Epoch 10, CIFAR-10 Batch 1:  Current Cost: 0.7179688215255737, accuracy: 0.6733999848365784\n",
      "Epoch 10, CIFAR-10 Batch 2:  Current Cost: 0.26700589060783386, accuracy: 0.6881999969482422\n",
      "Epoch 10, CIFAR-10 Batch 3:  Current Cost: 0.2860424518585205, accuracy: 0.6772000193595886\n",
      "Epoch 10, CIFAR-10 Batch 4:  Current Cost: 0.5523857474327087, accuracy: 0.656000018119812\n",
      "Epoch 10, CIFAR-10 Batch 5:  Current Cost: 0.6245014071464539, accuracy: 0.6686000227928162\n",
      "Epoch 11, CIFAR-10 Batch 1:  Current Cost: 0.521346926689148, accuracy: 0.6776000261306763\n",
      "Epoch 11, CIFAR-10 Batch 2:  Current Cost: 0.12085497379302979, accuracy: 0.7003999948501587\n",
      "Epoch 11, CIFAR-10 Batch 3:  Current Cost: 0.5919182896614075, accuracy: 0.6917999982833862\n",
      "Epoch 11, CIFAR-10 Batch 4:  Current Cost: 0.4184694290161133, accuracy: 0.6958000063896179\n",
      "Epoch 11, CIFAR-10 Batch 5:  Current Cost: 0.42242154479026794, accuracy: 0.6827999949455261\n",
      "Epoch 12, CIFAR-10 Batch 1:  Current Cost: 0.49488577246665955, accuracy: 0.678600013256073\n",
      "Epoch 12, CIFAR-10 Batch 2:  Current Cost: 0.136860653758049, accuracy: 0.6880000233650208\n",
      "Epoch 12, CIFAR-10 Batch 3:  Current Cost: 0.28113600611686707, accuracy: 0.6953999996185303\n",
      "Epoch 12, CIFAR-10 Batch 4:  Current Cost: 0.31505098938941956, accuracy: 0.6868000030517578\n",
      "Epoch 12, CIFAR-10 Batch 5:  Current Cost: 0.24211004376411438, accuracy: 0.703000009059906\n",
      "Epoch 13, CIFAR-10 Batch 1:  Current Cost: 0.5081237554550171, accuracy: 0.6819999814033508\n",
      "Epoch 13, CIFAR-10 Batch 2:  Current Cost: 0.18076588213443756, accuracy: 0.692799985408783\n",
      "Epoch 13, CIFAR-10 Batch 3:  Current Cost: 0.4277419447898865, accuracy: 0.6917999982833862\n",
      "Epoch 13, CIFAR-10 Batch 4:  Current Cost: 0.34146037697792053, accuracy: 0.6980000138282776\n",
      "Epoch 13, CIFAR-10 Batch 5:  Current Cost: 0.266431987285614, accuracy: 0.7002000212669373\n",
      "Epoch 14, CIFAR-10 Batch 1:  Current Cost: 0.2935347855091095, accuracy: 0.6962000131607056\n",
      "Epoch 14, CIFAR-10 Batch 2:  Current Cost: 0.1345975697040558, accuracy: 0.7052000164985657\n",
      "Epoch 14, CIFAR-10 Batch 3:  Current Cost: 0.3999106287956238, accuracy: 0.6959999799728394\n",
      "Epoch 14, CIFAR-10 Batch 4:  Current Cost: 0.3289602994918823, accuracy: 0.6901999711990356\n",
      "Epoch 14, CIFAR-10 Batch 5:  Current Cost: 0.29722151160240173, accuracy: 0.6985999941825867\n",
      "Epoch 15, CIFAR-10 Batch 1:  Current Cost: 0.37565964460372925, accuracy: 0.7024000287055969\n",
      "Epoch 15, CIFAR-10 Batch 2:  Current Cost: 0.20258896052837372, accuracy: 0.6930000185966492\n",
      "Epoch 15, CIFAR-10 Batch 3:  Current Cost: 0.04879190772771835, accuracy: 0.7034000158309937\n",
      "Epoch 15, CIFAR-10 Batch 4:  Current Cost: 0.19309315085411072, accuracy: 0.6949999928474426\n",
      "Epoch 15, CIFAR-10 Batch 5:  Current Cost: 0.19181710481643677, accuracy: 0.7092000246047974\n",
      "Epoch 16, CIFAR-10 Batch 1:  Current Cost: 0.20603200793266296, accuracy: 0.6887999773025513\n",
      "Epoch 16, CIFAR-10 Batch 2:  Current Cost: 0.10177794843912125, accuracy: 0.7103999853134155\n",
      "Epoch 16, CIFAR-10 Batch 3:  Current Cost: 0.1523924320936203, accuracy: 0.692799985408783\n",
      "Epoch 16, CIFAR-10 Batch 4:  Current Cost: 0.19863533973693848, accuracy: 0.715399980545044\n",
      "Epoch 16, CIFAR-10 Batch 5:  Current Cost: 0.3382456302642822, accuracy: 0.6948000192642212\n",
      "Epoch 17, CIFAR-10 Batch 1:  Current Cost: 0.5433976054191589, accuracy: 0.6815999746322632\n",
      "Epoch 17, CIFAR-10 Batch 2:  Current Cost: 0.12831111252307892, accuracy: 0.704800009727478\n",
      "Epoch 17, CIFAR-10 Batch 3:  Current Cost: 0.17983902990818024, accuracy: 0.6873999834060669\n",
      "Epoch 17, CIFAR-10 Batch 4:  Current Cost: 0.3149847984313965, accuracy: 0.7167999744415283\n",
      "Epoch 17, CIFAR-10 Batch 5:  Current Cost: 0.3209775984287262, accuracy: 0.6976000070571899\n",
      "Epoch 18, CIFAR-10 Batch 1:  Current Cost: 0.3059971332550049, accuracy: 0.6905999779701233\n",
      "Epoch 18, CIFAR-10 Batch 2:  Current Cost: 0.12225091457366943, accuracy: 0.6832000017166138\n",
      "Epoch 18, CIFAR-10 Batch 3:  Current Cost: 0.1487959772348404, accuracy: 0.7128000259399414\n",
      "Epoch 18, CIFAR-10 Batch 4:  Current Cost: 0.17472310364246368, accuracy: 0.7026000022888184\n"
     ]
    },
    {
     "name": "stdout",
     "output_type": "stream",
     "text": [
      "Epoch 18, CIFAR-10 Batch 5:  Current Cost: 0.34515124559402466, accuracy: 0.6962000131607056\n",
      "Epoch 19, CIFAR-10 Batch 1:  Current Cost: 0.09245899319648743, accuracy: 0.699400007724762\n",
      "Epoch 19, CIFAR-10 Batch 2:  Current Cost: 0.14300614595413208, accuracy: 0.7215999960899353\n",
      "Epoch 19, CIFAR-10 Batch 3:  Current Cost: 0.06437893211841583, accuracy: 0.6980000138282776\n",
      "Epoch 19, CIFAR-10 Batch 4:  Current Cost: 0.26356545090675354, accuracy: 0.7034000158309937\n",
      "Epoch 19, CIFAR-10 Batch 5:  Current Cost: 0.33675676584243774, accuracy: 0.7088000178337097\n",
      "Epoch 20, CIFAR-10 Batch 1:  Current Cost: 0.4777738153934479, accuracy: 0.6675999760627747\n",
      "Epoch 20, CIFAR-10 Batch 2:  Current Cost: 0.033619917929172516, accuracy: 0.704200029373169\n",
      "Epoch 20, CIFAR-10 Batch 3:  Current Cost: 0.12833426892757416, accuracy: 0.699400007724762\n",
      "Epoch 20, CIFAR-10 Batch 4:  Current Cost: 0.09097845107316971, accuracy: 0.7121999859809875\n",
      "Epoch 20, CIFAR-10 Batch 5:  Current Cost: 0.11154438555240631, accuracy: 0.7089999914169312\n",
      "Epoch 21, CIFAR-10 Batch 1:  Current Cost: 0.22824403643608093, accuracy: 0.7143999934196472\n",
      "Epoch 21, CIFAR-10 Batch 2:  Current Cost: 0.32209473848342896, accuracy: 0.6922000050544739\n",
      "Epoch 21, CIFAR-10 Batch 3:  Current Cost: 0.03853554278612137, accuracy: 0.7117999792098999\n",
      "Epoch 21, CIFAR-10 Batch 4:  Current Cost: 0.2390201836824417, accuracy: 0.7178000211715698\n",
      "Epoch 21, CIFAR-10 Batch 5:  Current Cost: 0.10222127288579941, accuracy: 0.6998000144958496\n",
      "Epoch 22, CIFAR-10 Batch 1:  Current Cost: 0.10180872678756714, accuracy: 0.7170000076293945\n",
      "Epoch 22, CIFAR-10 Batch 2:  Current Cost: 0.01591099426150322, accuracy: 0.703000009059906\n",
      "Epoch 22, CIFAR-10 Batch 3:  Current Cost: 0.032185692340135574, accuracy: 0.7157999873161316\n",
      "Epoch 22, CIFAR-10 Batch 4:  Current Cost: 0.1716100126504898, accuracy: 0.7164000272750854\n",
      "Epoch 22, CIFAR-10 Batch 5:  Current Cost: 0.1316026747226715, accuracy: 0.7156000137329102\n",
      "Epoch 23, CIFAR-10 Batch 1:  Current Cost: 0.19034305214881897, accuracy: 0.6917999982833862\n",
      "Epoch 23, CIFAR-10 Batch 2:  Current Cost: 0.039156366139650345, accuracy: 0.7024000287055969\n",
      "Epoch 23, CIFAR-10 Batch 3:  Current Cost: 0.0549083948135376, accuracy: 0.7008000016212463\n",
      "Epoch 23, CIFAR-10 Batch 4:  Current Cost: 0.06595005095005035, accuracy: 0.7210000157356262\n",
      "Epoch 23, CIFAR-10 Batch 5:  Current Cost: 0.08314123749732971, accuracy: 0.6967999935150146\n",
      "Epoch 24, CIFAR-10 Batch 1:  Current Cost: 0.09987430274486542, accuracy: 0.675599992275238\n",
      "Epoch 24, CIFAR-10 Batch 2:  Current Cost: 0.034779008477926254, accuracy: 0.692799985408783\n",
      "Epoch 24, CIFAR-10 Batch 3:  Current Cost: 0.34508016705513, accuracy: 0.7031999826431274\n",
      "Epoch 24, CIFAR-10 Batch 4:  Current Cost: 0.07818248122930527, accuracy: 0.7124000191688538\n",
      "Epoch 24, CIFAR-10 Batch 5:  Current Cost: 0.09696231782436371, accuracy: 0.7027999758720398\n",
      "Epoch 25, CIFAR-10 Batch 1:  Current Cost: 0.21365948021411896, accuracy: 0.7059999704360962\n",
      "Epoch 25, CIFAR-10 Batch 2:  Current Cost: 0.016953086480498314, accuracy: 0.7102000117301941\n",
      "Epoch 25, CIFAR-10 Batch 3:  Current Cost: 0.029803216457366943, accuracy: 0.7142000198364258\n",
      "Epoch 25, CIFAR-10 Batch 4:  Current Cost: 0.30847448110580444, accuracy: 0.6976000070571899\n",
      "Epoch 25, CIFAR-10 Batch 5:  Current Cost: 0.1290188878774643, accuracy: 0.7002000212669373\n",
      "Epoch 26, CIFAR-10 Batch 1:  Current Cost: 0.1497805267572403, accuracy: 0.7059999704360962\n",
      "Epoch 26, CIFAR-10 Batch 2:  Current Cost: 0.08019691705703735, accuracy: 0.6800000071525574\n",
      "Epoch 26, CIFAR-10 Batch 3:  Current Cost: 0.009061061777174473, accuracy: 0.7135999798774719\n",
      "Epoch 26, CIFAR-10 Batch 4:  Current Cost: 0.0775132030248642, accuracy: 0.7053999900817871\n",
      "Epoch 26, CIFAR-10 Batch 5:  Current Cost: 0.019808925688266754, accuracy: 0.7185999751091003\n",
      "Epoch 27, CIFAR-10 Batch 1:  Current Cost: 0.30744248628616333, accuracy: 0.7121999859809875\n",
      "Epoch 27, CIFAR-10 Batch 2:  Current Cost: 0.1745905876159668, accuracy: 0.7149999737739563\n",
      "Epoch 27, CIFAR-10 Batch 3:  Current Cost: 0.1230853945016861, accuracy: 0.7080000042915344\n",
      "Epoch 27, CIFAR-10 Batch 4:  Current Cost: 0.35350531339645386, accuracy: 0.6794000267982483\n",
      "Epoch 27, CIFAR-10 Batch 5:  Current Cost: 0.2609316110610962, accuracy: 0.7085999846458435\n",
      "Epoch 28, CIFAR-10 Batch 1:  Current Cost: 0.2018040418624878, accuracy: 0.7185999751091003\n",
      "Epoch 28, CIFAR-10 Batch 2:  Current Cost: 0.0022459919564425945, accuracy: 0.7146000266075134\n",
      "Epoch 28, CIFAR-10 Batch 3:  Current Cost: 0.03587114065885544, accuracy: 0.7211999893188477\n",
      "Epoch 28, CIFAR-10 Batch 4:  Current Cost: 0.06764738261699677, accuracy: 0.7084000110626221\n",
      "Epoch 28, CIFAR-10 Batch 5:  Current Cost: 0.11459376662969589, accuracy: 0.7117999792098999\n",
      "Epoch 29, CIFAR-10 Batch 1:  Current Cost: 0.05054992437362671, accuracy: 0.704200029373169\n",
      "Epoch 29, CIFAR-10 Batch 2:  Current Cost: 0.062484823167324066, accuracy: 0.7031999826431274\n",
      "Epoch 29, CIFAR-10 Batch 3:  Current Cost: 0.021460894495248795, accuracy: 0.7185999751091003\n",
      "Epoch 29, CIFAR-10 Batch 4:  Current Cost: 0.04339545592665672, accuracy: 0.7116000056266785\n",
      "Epoch 29, CIFAR-10 Batch 5:  Current Cost: 0.04336123540997505, accuracy: 0.7075999975204468\n",
      "Epoch 30, CIFAR-10 Batch 1:  Current Cost: 0.367434024810791, accuracy: 0.7157999873161316\n",
      "Epoch 30, CIFAR-10 Batch 2:  Current Cost: 0.0016127664130181074, accuracy: 0.7139999866485596\n",
      "Epoch 30, CIFAR-10 Batch 3:  Current Cost: 0.06227891892194748, accuracy: 0.6953999996185303\n",
      "Epoch 30, CIFAR-10 Batch 4:  Current Cost: 0.19225364923477173, accuracy: 0.7174000144004822\n",
      "Epoch 30, CIFAR-10 Batch 5:  Current Cost: 0.12745705246925354, accuracy: 0.7017999887466431\n",
      "Epoch 31, CIFAR-10 Batch 1:  Current Cost: 0.03624808043241501, accuracy: 0.7206000089645386\n",
      "Epoch 31, CIFAR-10 Batch 2:  Current Cost: 0.0016126278787851334, accuracy: 0.7261999845504761\n",
      "Epoch 31, CIFAR-10 Batch 3:  Current Cost: 0.6578289866447449, accuracy: 0.6075999736785889\n",
      "Epoch 31, CIFAR-10 Batch 4:  Current Cost: 0.15372946858406067, accuracy: 0.7135999798774719\n",
      "Epoch 31, CIFAR-10 Batch 5:  Current Cost: 0.04185975342988968, accuracy: 0.7107999920845032\n",
      "Epoch 32, CIFAR-10 Batch 1:  Current Cost: 0.019098889082670212, accuracy: 0.7135999798774719\n",
      "Epoch 32, CIFAR-10 Batch 2:  Current Cost: 0.00819485168904066, accuracy: 0.7063999772071838\n",
      "Epoch 32, CIFAR-10 Batch 3:  Current Cost: 0.05025416612625122, accuracy: 0.7113999724388123\n",
      "Epoch 32, CIFAR-10 Batch 4:  Current Cost: 0.008923681452870369, accuracy: 0.7149999737739563\n",
      "Epoch 32, CIFAR-10 Batch 5:  Current Cost: 0.06104068085551262, accuracy: 0.6944000124931335\n"
     ]
    }
   ],
   "source": [
    "\"\"\"\n",
    "DON'T MODIFY ANYTHING IN THIS CELL\n",
    "\"\"\"\n",
    "save_model_path = './image_classification'\n",
    "\n",
    "print('Training...')\n",
    "with tf.Session() as sess:\n",
    "    # Initializing the variables\n",
    "    sess.run(tf.global_variables_initializer())\n",
    "    \n",
    "    # Training cycle\n",
    "    for epoch in range(epochs):\n",
    "        # Loop over all batches\n",
    "        n_batches = 5\n",
    "        for batch_i in range(1, n_batches + 1):\n",
    "            for batch_features, batch_labels in helper.load_preprocess_training_batch(batch_i, batch_size):\n",
    "                train_neural_network(sess, optimizer, keep_probability, batch_features, batch_labels)\n",
    "            print('Epoch {:>2}, CIFAR-10 Batch {}:  '.format(epoch + 1, batch_i), end='')\n",
    "            print_stats(sess, batch_features, batch_labels, cost, accuracy)\n",
    "            \n",
    "    # Save Model\n",
    "    saver = tf.train.Saver()\n",
    "    save_path = saver.save(sess, save_model_path)"
   ]
  },
  {
   "cell_type": "markdown",
   "metadata": {},
   "source": [
    "# Checkpoint\n",
    "The model has been saved to disk.\n",
    "## Test Model\n",
    "Test your model against the test dataset.  This will be your final accuracy. You should have an accuracy greater than 50%. If you don't, keep tweaking the model architecture and parameters."
   ]
  },
  {
   "cell_type": "code",
   "execution_count": 86,
   "metadata": {},
   "outputs": [
    {
     "name": "stdout",
     "output_type": "stream",
     "text": [
      "INFO:tensorflow:Restoring parameters from ./image_classification\n",
      "Testing Accuracy: 0.6886000026986003\n",
      "\n"
     ]
    },
    {
     "data": {
      "image/png": "[encoded data removed]",
      "text/plain": [
       "<matplotlib.figure.Figure at 0x1a15809940>"
      ]
     },
     "metadata": {
      "image/png": {
       "height": 319,
       "width": 355
      }
     },
     "output_type": "display_data"
    }
   ],
   "source": [
    "\"\"\"\n",
    "DON'T MODIFY ANYTHING IN THIS CELL\n",
    "\"\"\"\n",
    "%matplotlib inline\n",
    "%config InlineBackend.figure_format = 'retina'\n",
    "\n",
    "import tensorflow as tf\n",
    "import pickle\n",
    "import helper\n",
    "import random\n",
    "\n",
    "# Set batch size if not already set\n",
    "try:\n",
    "    if batch_size:\n",
    "        pass\n",
    "except NameError:\n",
    "    batch_size = 64\n",
    "\n",
    "save_model_path = './image_classification'\n",
    "n_samples = 4\n",
    "top_n_predictions = 3\n",
    "\n",
    "def test_model():\n",
    "    \"\"\"\n",
    "    Test the saved model against the test dataset\n",
    "    \"\"\"\n",
    "\n",
    "    test_features, test_labels = pickle.load(open('preprocess_training.p', mode='rb'))\n",
    "    loaded_graph = tf.Graph()\n",
    "\n",
    "    with tf.Session(graph=loaded_graph) as sess:\n",
    "        # Load model\n",
    "        loader = tf.train.import_meta_graph(save_model_path + '.meta')\n",
    "        loader.restore(sess, save_model_path)\n",
    "\n",
    "        # Get Tensors from loaded model\n",
    "        loaded_x = loaded_graph.get_tensor_by_name('x:0')\n",
    "        loaded_y = loaded_graph.get_tensor_by_name('y:0')\n",
    "        loaded_keep_prob = loaded_graph.get_tensor_by_name('keep_prob:0')\n",
    "        loaded_logits = loaded_graph.get_tensor_by_name('logits:0')\n",
    "        loaded_acc = loaded_graph.get_tensor_by_name('accuracy:0')\n",
    "        \n",
    "        # Get accuracy in batches for memory limitations\n",
    "        test_batch_acc_total = 0\n",
    "        test_batch_count = 0\n",
    "        \n",
    "        for train_feature_batch, train_label_batch in helper.batch_features_labels(test_features, test_labels, batch_size):\n",
    "            test_batch_acc_total += sess.run(\n",
    "                loaded_acc,\n",
    "                feed_dict={loaded_x: train_feature_batch, loaded_y: train_label_batch, loaded_keep_prob: 1.0})\n",
    "            test_batch_count += 1\n",
    "\n",
    "        print('Testing Accuracy: {}\\n'.format(test_batch_acc_total/test_batch_count))\n",
    "\n",
    "        # Print Random Samples\n",
    "        random_test_features, random_test_labels = tuple(zip(*random.sample(list(zip(test_features, test_labels)), n_samples)))\n",
    "        random_test_predictions = sess.run(\n",
    "            tf.nn.top_k(tf.nn.softmax(loaded_logits), top_n_predictions),\n",
    "            feed_dict={loaded_x: random_test_features, loaded_y: random_test_labels, loaded_keep_prob: 1.0})\n",
    "        helper.display_image_predictions(random_test_features, random_test_labels, random_test_predictions)\n",
    "\n",
    "\n",
    "test_model()"
   ]
  },
  {
   "cell_type": "markdown",
   "metadata": {},
   "source": [
    "## Why 50-80% Accuracy?\n",
    "You might be wondering why you can't get an accuracy any higher. First things first, 50% isn't bad for a simple CNN.  Pure guessing would get you 10% accuracy. That's because there are many more techniques that can be applied to your model and we recemmond that once you are done with this project, you explore!\n",
    "\n",
    "## Submitting This Project\n",
    "When submitting this project, make sure to run all the cells before saving the notebook.  Save the notebook file as \"image_classification.ipynb\" and save it as a HTML file under \"File\" -> \"Download as\".  Include the \"helper.py\" and \"problem_unittests.py\" files in your submission."
   ]
  }
 ],
 "metadata": {
  "kernelspec": {
   "display_name": "Python 3",
   "language": "python",
   "name": "python3"
  },
  "language_info": {
   "codemirror_mode": {
    "name": "ipython",
    "version": 3
   },
   "file_extension": ".py",
   "mimetype": "text/x-python",
   "name": "python",
   "nbconvert_exporter": "python",
   "pygments_lexer": "ipython3",
   "version": "3.6.3"
  }
 },
 "nbformat": 4,
 "nbformat_minor": 1
}
